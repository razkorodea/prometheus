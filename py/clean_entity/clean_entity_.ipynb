{
 "cells": [
  {
   "cell_type": "code",
   "execution_count": 24,
   "metadata": {},
   "outputs": [
    {
     "name": "stdout",
     "output_type": "stream",
     "text": [
      "----------------------------------------------------------------\n",
      "New Look !!!\n",
      "----------------------------------------------------------------\n",
      "\n"
     ]
    }
   ],
   "source": [
    "# ==============================================================================\n",
    "import os\n",
    "\n",
    "# ------------------------------------------------------------------------------\n",
    "# Introduction\n",
    "# ------------------------------------------------------------------------------\n",
    "print (\"----------------------------------------------------------------\")\n",
    "print (\"New Look !!!\")\n",
    "print (\"----------------------------------------------------------------\")\n",
    "print (\"\")"
   ]
  },
  {
   "cell_type": "code",
   "execution_count": 25,
   "metadata": {},
   "outputs": [],
   "source": [
    "# ------------------------------------------------------------------------------\n",
    "# Constants\n",
    "# ------------------------------------------------------------------------------\n",
    "match_entity     = ['entity', 'ENTITY']\n",
    "match_entity_end = ['end', 'END']\n",
    "match_pins_in    = [' in ', ' IN ']\n",
    "match_pins_out   = [' out ', ' OUT ']\n",
    "match_pins       = [' in ', ' out ', ' IN ', ' OUT ']\n",
    "match_generic    = ['generic', 'GENERIC']\n",
    "match_port       = ['port', 'PORT']\n",
    "match_not_cons   = ['--', ');']\n",
    "match_vects      = ['downto', 'to']\n",
    "\n",
    "file_name_i      = 'iput_file.txt'\n",
    "file_name_x      = 'xput_file.txt'\n",
    "file_name_y      = 'yput_file.txt'\n",
    "file_name_o      = 'oput_file.txt'\n",
    "ports_lst        = []"
   ]
  },
  {
   "cell_type": "code",
   "execution_count": 26,
   "metadata": {},
   "outputs": [],
   "source": [
    "# ------------------------------------------------------------------------------\n",
    "# Read Source File\n",
    "# ------------------------------------------------------------------------------\n",
    "with open(file_name_i) as file_in:\n",
    "    for line in file_in:\n",
    "        #--------------------------------------------------------------------\n",
    "        if any([x in line for x in match_pins]):\n",
    "           #file_out.write(line)\n",
    "           words = line.split(':')\n",
    "           ports_lst.append(words[0])\n",
    "max_port_len = len(max(ports_lst, key=len))\n",
    "\n",
    "\n",
    "file_out = open(file_name_x, 'w+')\n",
    "with open(file_name_i) as file_in:\n",
    "    for line in file_in:\n",
    "        #-----------------------------------------------------------------------\n",
    "        if any([x in line for x in match_pins]):\n",
    "           #file_out.write(line)\n",
    "           words = line.split(':')\n",
    "           file_out.write(f\"{words[0] : <{max_port_len}}\")\n",
    "           file_out.write(f\": {words[1].strip()}\")\n",
    "           file_out.write('\\n')\n",
    "file_out.close()\n",
    "\n",
    "\n",
    "file_out = open(file_name_y, 'w+')\n",
    "with open(file_name_x) as file_in:\n",
    "    for line in file_in:\n",
    "        #--------------------------------------------------------------------\n",
    "        if any([x in line for x in match_pins_in]):\n",
    "           words = line.split(' in ')\n",
    "           # words = line.split(' IN ')\n",
    "           file_out.write(f\"{words[0]} in  {words[1].lower()}\")\n",
    "        if any([x in line for x in match_pins_out]):\n",
    "           words = line.split(' out ')\n",
    "           # words = line.split(' OUT ')\n",
    "           file_out.write(f\"{words[0]} out {words[1].lower()}\")\n",
    "file_out.close()"
   ]
  },
  {
   "cell_type": "code",
   "execution_count": 60,
   "metadata": {},
   "outputs": [],
   "source": [
    "file_out = open(file_name_o, 'w+')\n",
    "with open(file_name_y) as file_in:\n",
    "    for line in file_in:\n",
    "        #--------------------------------------------------------------------\n",
    "        if any([x in line for x in match_vects]):\n",
    "           words = line.split('(')\n",
    "           if ' to ' in words[1]:\n",
    "               tokens = words[1].split(' to ')\n",
    "               tokens[0] = tokens[0].replace(\" \",\"\")\n",
    "               tokens[1] = tokens[1].replace(' ', '')\n",
    "               tokens[1] = tokens[1].replace(')', '')\n",
    "               tokens[1] = tokens[1].replace(';', '')\n",
    "               tokens[1] = tokens[1].replace('\\n', '')\n",
    "               file_out.write(f\"{words[0]}({tokens[0] : >2} to {tokens[1]});\\n\")\n",
    "           if ' downto ' in words[1]:\n",
    "               tokens = words[1].split(' downto ')\n",
    "               tokens[0] = tokens[0].replace(\" \",\"\")\n",
    "               tokens[1] = tokens[1].replace(' ', '')\n",
    "               tokens[1] = tokens[1].replace(')', '')\n",
    "               tokens[1] = tokens[1].replace(';', '')\n",
    "               tokens[1] = tokens[1].replace('\\n', '')\n",
    "               file_out.write(f\"{words[0]}({tokens[0] : >2} downto {tokens[1]});\\n\")\n",
    "        else:\n",
    "            file_out.write(line)\n",
    "file_out.close()"
   ]
  },
  {
   "cell_type": "code",
   "execution_count": null,
   "metadata": {},
   "outputs": [],
   "source": []
  },
  {
   "cell_type": "code",
   "execution_count": null,
   "metadata": {},
   "outputs": [],
   "source": []
  },
  {
   "cell_type": "code",
   "execution_count": null,
   "metadata": {},
   "outputs": [],
   "source": []
  },
  {
   "cell_type": "code",
   "execution_count": null,
   "metadata": {},
   "outputs": [],
   "source": []
  }
 ],
 "metadata": {
  "kernelspec": {
   "display_name": "Python310",
   "language": "python",
   "name": "python3"
  },
  "language_info": {
   "codemirror_mode": {
    "name": "ipython",
    "version": 3
   },
   "file_extension": ".py",
   "mimetype": "text/x-python",
   "name": "python",
   "nbconvert_exporter": "python",
   "pygments_lexer": "ipython3",
   "version": "3.10.8"
  },
  "orig_nbformat": 4
 },
 "nbformat": 4,
 "nbformat_minor": 2
}
