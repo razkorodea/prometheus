{
 "cells": [
  {
   "cell_type": "code",
   "execution_count": 1,
   "metadata": {},
   "outputs": [],
   "source": [
    "# ==============================================================================\n",
    "import matplotlib as mpl\n",
    "import matplotlib.pyplot as plt\n",
    "import numpy as np\n",
    "import seaborn as sns\n",
    "import pandas as pd\n",
    "import re\n",
    "import os\n",
    "from pathlib import Path\n",
    "from glob import glob"
   ]
  },
  {
   "cell_type": "code",
   "execution_count": 132,
   "metadata": {},
   "outputs": [],
   "source": [
    "# --------------------------------------------------\n",
    "# CONSTANTS\n",
    "NOME_TOP      = 'halo_top'\n",
    "FILE_PATH     = '../../designer'\n",
    "SOURCE_PATH   = '../../designer/halo_lib/hdl'\n",
    "FILE_NAME_SRC = NOME_TOP + '.vhd'\n",
    "FILE_NAME_OUT = 'filelist.txt'\n",
    "PATH_OFFSET   = '../../designer'"
   ]
  },
  {
   "cell_type": "code",
   "execution_count": 91,
   "metadata": {},
   "outputs": [],
   "source": [
    "cwd = os.getcwd()\n",
    "cwd = cwd.replace('\\\\', '/')\n",
    "#print(cwd)\n",
    "#print(type(cwd))"
   ]
  },
  {
   "cell_type": "code",
   "execution_count": 22,
   "metadata": {},
   "outputs": [],
   "source": []
  },
  {
   "cell_type": "code",
   "execution_count": 86,
   "metadata": {},
   "outputs": [
    {
     "data": {
      "text/plain": [
       "239"
      ]
     },
     "execution_count": 86,
     "metadata": {},
     "output_type": "execute_result"
    }
   ],
   "source": [
    "# Lista tutti i file all’interno del progetto\n",
    "lst_files = []\n",
    "for path in Path(FILE_PATH).rglob('*.vhd'):\n",
    "    #print(str(path))\n",
    "    lst_files.append(str(path))\n",
    "len(lst_files)"
   ]
  },
  {
   "cell_type": "code",
   "execution_count": null,
   "metadata": {},
   "outputs": [],
   "source": []
  },
  {
   "cell_type": "code",
   "execution_count": null,
   "metadata": {},
   "outputs": [],
   "source": []
  },
  {
   "cell_type": "code",
   "execution_count": 87,
   "metadata": {},
   "outputs": [
    {
     "name": "stdout",
     "output_type": "stream",
     "text": [
      "..\\..\\designer\\halo_lib\\hdl\\halo_top.vhd\n",
      "..\\..\\designer\\verification_lib\\hdl\\halo_top_tb.vhd\n"
     ]
    }
   ],
   "source": [
    "for line in lst_files:\n",
    "    if NOME_TOP in line:\n",
    "        print (line)"
   ]
  },
  {
   "cell_type": "code",
   "execution_count": 88,
   "metadata": {},
   "outputs": [
    {
     "data": {
      "text/plain": [
       "239"
      ]
     },
     "execution_count": 88,
     "metadata": {},
     "output_type": "execute_result"
    }
   ],
   "source": [
    "lst_splitted = []\n",
    "dic_splitted = {}\n",
    "lst_modular  = []\n",
    "for line in lst_files:\n",
    "    lst_bkp      = []\n",
    "    lst_splitted = line.split('\\\\')\n",
    "    #print(lst_splitted)\n",
    "    dic_splitted[lst_splitted[-1]] = lst_splitted[3]\n",
    "    lst_bkp.append(lst_splitted[3])\n",
    "    lst_bkp.append('/'.join(lst_splitted[4:-1]))\n",
    "    lst_bkp.append(lst_splitted[-1])\n",
    "    lst_modular.append(lst_bkp)\n",
    "len(lst_modular)"
   ]
  },
  {
   "cell_type": "code",
   "execution_count": 131,
   "metadata": {},
   "outputs": [],
   "source": [
    "# lst_modular"
   ]
  },
  {
   "cell_type": "code",
   "execution_count": 134,
   "metadata": {},
   "outputs": [
    {
     "name": "stdout",
     "output_type": "stream",
     "text": [
      "['component', 'halo_wrapper']\n",
      "['component', 'XILINX_MDEBUG_MasterRec_to_SlaveSplit']\n",
      "['component', 'XilinxAHBLite2Record']\n",
      "['component', 'krypto_aes_upif']\n"
     ]
    }
   ],
   "source": [
    "#----------------------------------------------------------------------------\n",
    "# Read Source File\n",
    "#----------------------------------------------------------------------------\n",
    "comp_match_lst = ['component', 'COMPONENT']\n",
    "lib_match_lst  = ['library', 'LIBRARY']\n",
    "files_to_loop  = []\n",
    "libs_in_file   = []\n",
    "comp_in_file   = []\n",
    "\n",
    "fout = open(FILE_NAME_OUT, 'w+')\n",
    "\n",
    "with open(os.path.join(SOURCE_PATH, FILE_NAME_SRC)) as file:\n",
    "    for line in file:\n",
    "        line = line.strip('\\n')\n",
    "        line_splitted = line.split()\n",
    "        if any([x in line_splitted for x in comp_match_lst]):\n",
    "            comp_in_file.append(line_splitted[-1])\n",
    "            print(line_splitted)\n",
    "        line = line.strip(';')\n",
    "        line_splitted = line.split(' ')\n",
    "        if any([x in line_splitted for x in lib_match_lst]):\n",
    "            libs_in_file.append(line_splitted[1])\n",
    "fout.close()            "
   ]
  },
  {
   "cell_type": "code",
   "execution_count": 128,
   "metadata": {},
   "outputs": [
    {
     "name": "stdout",
     "output_type": "stream",
     "text": [
      "['ieee', 'essa_lib', 'siae_packet_pkg_lib', 'halo_lib']\n",
      "['halo_wrapper', 'XILINX_MDEBUG_MasterRec_to_SlaveSplit', 'XilinxAHBLite2Record', 'krypto_aes_upif']\n"
     ]
    }
   ],
   "source": [
    "print(libs_in_file)\n",
    "print(comp_in_file)"
   ]
  }
 ],
 "metadata": {
  "kernelspec": {
   "display_name": "Python310",
   "language": "python",
   "name": "python3"
  },
  "language_info": {
   "codemirror_mode": {
    "name": "ipython",
    "version": 3
   },
   "file_extension": ".py",
   "mimetype": "text/x-python",
   "name": "python",
   "nbconvert_exporter": "python",
   "pygments_lexer": "ipython3",
   "version": "3.10.8"
  },
  "orig_nbformat": 4
 },
 "nbformat": 4,
 "nbformat_minor": 2
}
