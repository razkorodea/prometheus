{
 "cells": [
  {
   "cell_type": "code",
   "execution_count": 9,
   "metadata": {},
   "outputs": [],
   "source": [
    "# ==============================================================================\n",
    "import matplotlib as mpl\n",
    "import matplotlib.pyplot as plt\n",
    "import numpy as np\n",
    "import seaborn as sns\n",
    "import pandas as pd\n",
    "import re\n",
    "import os\n",
    "from pathlib import Path\n",
    "from glob import glob"
   ]
  },
  {
   "cell_type": "code",
   "execution_count": 3,
   "metadata": {},
   "outputs": [
    {
     "data": {
      "text/plain": [
       "['ciao',\n",
       " 'krypto_aes_upif.vhd',\n",
       " 'krypto_pkg.vhd',\n",
       " 'thesis.vhd',\n",
       " 'thesis_gmii_if.vhd',\n",
       " 'thesis_top.vhd']"
      ]
     },
     "execution_count": 3,
     "metadata": {},
     "output_type": "execute_result"
    }
   ],
   "source": [
    "os.listdir('hdl')"
   ]
  },
  {
   "cell_type": "code",
   "execution_count": 47,
   "metadata": {},
   "outputs": [
    {
     "name": "stdout",
     "output_type": "stream",
     "text": [
      "<class 'pathlib.WindowsPath'>\n",
      "hdl\\ciao\\halo_top.vhd\n",
      "<class 'pathlib.WindowsPath'>\n",
      "hdl\\ciao\\halo_wrapper.vhd\n",
      "<class 'pathlib.WindowsPath'>\n",
      "hdl\\ciao\\hello\\thesis_gmii_if.vhd\n",
      "<class 'pathlib.WindowsPath'>\n",
      "hdl\\ciao\\hello\\thesis_top.vhd\n"
     ]
    }
   ],
   "source": [
    "for path in Path('hdl/ciao').rglob('*.vhd'):\n",
    "    print(type(path))\n",
    "    print(str(path))"
   ]
  },
  {
   "cell_type": "code",
   "execution_count": 40,
   "metadata": {},
   "outputs": [
    {
     "name": "stdout",
     "output_type": "stream",
     "text": [
      "<class 'str'>\n",
      "hdl\\krypto_aes_upif.vhd\n",
      "<class 'str'>\n",
      "hdl\\krypto_pkg.vhd\n",
      "<class 'str'>\n",
      "hdl\\thesis.vhd\n"
     ]
    }
   ],
   "source": [
    "for filename in glob('hdl/*.vhd', recursive=True):\n",
    "    print(type(filename))\n",
    "    print(filename)  "
   ]
  }
 ],
 "metadata": {
  "kernelspec": {
   "display_name": "Python310",
   "language": "python",
   "name": "python3"
  },
  "language_info": {
   "codemirror_mode": {
    "name": "ipython",
    "version": 3
   },
   "file_extension": ".py",
   "mimetype": "text/x-python",
   "name": "python",
   "nbconvert_exporter": "python",
   "pygments_lexer": "ipython3",
   "version": "3.10.8"
  },
  "orig_nbformat": 4
 },
 "nbformat": 4,
 "nbformat_minor": 2
}
