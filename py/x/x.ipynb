{
 "cells": [
  {
   "cell_type": "code",
   "execution_count": 59,
   "metadata": {},
   "outputs": [],
   "source": [
    "# ==============================================================================\n",
    "import matplotlib as mpl\n",
    "import matplotlib.pyplot as plt\n",
    "import numpy as np\n",
    "import seaborn as sns\n",
    "import pandas as pd\n",
    "import re\n",
    "import os"
   ]
  },
  {
   "cell_type": "code",
   "execution_count": 6,
   "metadata": {},
   "outputs": [],
   "source": [
    "#----------------------------------------------------------------------------\n",
    "# Ohters\n",
    "#----------------------------------------------------------------------------\n",
    "match_entity     = ['entity', 'ENTITY']\n",
    "match_entity_end = ['end', 'END']\n",
    "match_pins_in    = [' in ', ' IN ']\n",
    "match_pins_out   = [' out ', ' OUT ']\n",
    "match_pins       = [' in ', ' out ', ' IN ', ' OUT ']\n",
    "match_generic    = ['generic', 'GENERIC']\n",
    "match_port       = ['port', 'PORT']\n",
    "match_not_cons   = ['--', ');']\n",
    "flag_generic     = 0\n",
    "flag_entity      = 0\n",
    "comp_lst         = []\n",
    "in_dict          = {}\n",
    "out_dict         = {}\n",
    "pins_dict        = {}\n",
    "sig_lst          = []\n",
    "typ_lst          = []\n",
    "gens_lst         = []\n",
    "file_name_1     = 'comp.txt'\n",
    "file_name_2     = 'comp_2.txt'\n",
    "file_name_3     = 'comp_3.txt'\n",
    "\n",
    "ports_lst       = []"
   ]
  },
  {
   "cell_type": "code",
   "execution_count": 8,
   "metadata": {},
   "outputs": [],
   "source": [
    "#----------------------------------------------------------------------------\n",
    "# Read Source File\n",
    "#----------------------------------------------------------------------------\n",
    "with open(file_name_1) as file_in:\n",
    "    for line in file_in:\n",
    "        #--------------------------------------------------------------------\n",
    "        if any([x in line for x in match_pins]):\n",
    "           #file_out.write(line)\n",
    "           words = line.split(':')\n",
    "           ports_lst.append(words[0])\n",
    "max_port_len = len(max(ports_lst, key=len))"
   ]
  },
  {
   "cell_type": "code",
   "execution_count": 7,
   "metadata": {},
   "outputs": [],
   "source": [
    "#----------------------------------------------------------------------------\n",
    "# Read Source File\n",
    "#----------------------------------------------------------------------------\n",
    "file_out = open(file_name_2, 'w+')\n",
    "with open(file_name_1) as file_in:\n",
    "    for line in file_in:\n",
    "        #--------------------------------------------------------------------\n",
    "        if any([x in line for x in match_pins]):\n",
    "           #file_out.write(line)\n",
    "           words = line.split(':')\n",
    "           file_out.write(f\"{words[0] : <{max_port_len}}\")\n",
    "           file_out.write(f\": {words[1].strip()}\")\n",
    "           file_out.write('\\n')\n",
    "file_out.close()"
   ]
  },
  {
   "cell_type": "code",
   "execution_count": 4,
   "metadata": {},
   "outputs": [],
   "source": [
    "#----------------------------------------------------------------------------\n",
    "# Read Source File\n",
    "#----------------------------------------------------------------------------\n",
    "file_out = open(file_name_3, 'w+')\n",
    "with open(file_name_2) as file_in:\n",
    "    for line in file_in:\n",
    "        #--------------------------------------------------------------------\n",
    "        if any([x in line for x in match_pins_in]):\n",
    "           words = line.split(' in ')\n",
    "           file_out.write(f\"{words[0]} in  {words[1].lower()}\")\n",
    "        if any([x in line for x in match_pins_out]):\n",
    "           words = line.split(' out ')\n",
    "           file_out.write(f\"{words[0]} out {words[1].lower()}\")\n",
    "file_out.close()"
   ]
  },
  {
   "cell_type": "code",
   "execution_count": null,
   "metadata": {},
   "outputs": [],
   "source": []
  }
 ],
 "metadata": {
  "kernelspec": {
   "display_name": "Python310",
   "language": "python",
   "name": "python3"
  },
  "language_info": {
   "codemirror_mode": {
    "name": "ipython",
    "version": 3
   },
   "file_extension": ".py",
   "mimetype": "text/x-python",
   "name": "python",
   "nbconvert_exporter": "python",
   "pygments_lexer": "ipython3",
   "version": "3.10.8"
  },
  "orig_nbformat": 4
 },
 "nbformat": 4,
 "nbformat_minor": 2
}
